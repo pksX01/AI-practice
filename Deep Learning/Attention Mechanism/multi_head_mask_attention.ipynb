{
  "nbformat": 4,
  "nbformat_minor": 0,
  "metadata": {
    "colab": {
      "provenance": [],
      "authorship_tag": "ABX9TyOKFqAdf4igrRNEETmU6yHk",
      "include_colab_link": true
    },
    "kernelspec": {
      "name": "python3",
      "display_name": "Python 3"
    },
    "language_info": {
      "name": "python"
    }
  },
  "cells": [
    {
      "cell_type": "markdown",
      "metadata": {
        "id": "view-in-github",
        "colab_type": "text"
      },
      "source": [
        "<a href=\"https://colab.research.google.com/github/pksX01/AI-practice/blob/main/Deep%20Learning/Attention%20Mechanism/multi_head_mask_attention.ipynb\" target=\"_parent\"><img src=\"https://colab.research.google.com/assets/colab-badge.svg\" alt=\"Open In Colab\"/></a>"
      ]
    },
    {
      "cell_type": "code",
      "execution_count": 2,
      "metadata": {
        "id": "e3wSpNu2mdH_"
      },
      "outputs": [],
      "source": [
        "import torch\n",
        "import torch.nn as nn\n",
        "import torch.nn.functional as F"
      ]
    },
    {
      "cell_type": "markdown",
      "source": [
        "# Masked Attention"
      ],
      "metadata": {
        "id": "eY_IrEQZ44Sn"
      }
    },
    {
      "cell_type": "code",
      "source": [
        "class Attention(nn.Module):\n",
        "    def __init__(self, row_dim=0, col_dim=1, d_model=2):\n",
        "        super().__init__()\n",
        "        self.row_dim = row_dim\n",
        "        self.col_dim = col_dim\n",
        "\n",
        "        self.W_q = nn.Linear(in_features=d_model, out_features=d_model, bias=False)\n",
        "        self.W_k = nn.Linear(in_features=d_model, out_features=d_model, bias=False)\n",
        "        self.W_v = nn.Linear(in_features=d_model, out_features=d_model, bias=False)\n",
        "\n",
        "    def forward(self, q_encoding, k_encoding, v_encoding, mask=None):\n",
        "        q = self.W_q(q_encoding)\n",
        "        k = self.W_k(k_encoding)\n",
        "        v = self.W_v(v_encoding)\n",
        "        similarity = torch.matmul(q, k.transpose(dim0=self.row_dim, dim1=self.col_dim))\n",
        "        scaled_similarity = similarity/ torch.tensor(k.size(self.col_dim)**0.5)\n",
        "\n",
        "        if mask is not None: #In case of Mask Attention\n",
        "            scaled_similarity = scaled_similarity.masked_fill(mask=mask, value=-1e9)\n",
        "\n",
        "        attention_percents = F.softmax(scaled_similarity, dim=self.col_dim)\n",
        "        attention_scores = torch.matmul(attention_percents, v)\n",
        "        return attention_scores"
      ],
      "metadata": {
        "id": "NfZJ55Z1t6t-"
      },
      "execution_count": 10,
      "outputs": []
    },
    {
      "cell_type": "code",
      "source": [
        "q_encoding = torch.tensor([[1.16, 0.23],\n",
        "            [0.57, 1.36],\n",
        "            [4.41, -2.16]])\n",
        "\n",
        "k_encoding = torch.tensor([[1.16, 0.23],\n",
        "            [0.57, 1.36],\n",
        "            [4.41, -2.16]])\n",
        "\n",
        "v_encoding = torch.tensor([[1.16, 0.23],\n",
        "            [0.57, 1.36],\n",
        "            [4.41, -2.16]])"
      ],
      "metadata": {
        "id": "-Mjk16Kct9du"
      },
      "execution_count": 11,
      "outputs": []
    },
    {
      "cell_type": "markdown",
      "source": [
        "## Calculate Self Attention"
      ],
      "metadata": {
        "id": "vvm0ifoj1kTH"
      }
    },
    {
      "cell_type": "code",
      "source": [
        "torch.manual_seed(42)\n",
        "attention = Attention(row_dim=0, col_dim=1, d_model=2)\n",
        "attention(q_encoding, k_encoding, v_encoding)"
      ],
      "metadata": {
        "colab": {
          "base_uri": "https://localhost:8080/"
        },
        "id": "dbFNZTI01DUh",
        "outputId": "1fc7c192-6b66-41ab-d4f2-555803e62e4c"
      },
      "execution_count": 12,
      "outputs": [
        {
          "output_type": "execute_result",
          "data": {
            "text/plain": [
              "tensor([[1.0100, 1.0641],\n",
              "        [0.2040, 0.7057],\n",
              "        [3.4989, 2.2427]], grad_fn=<MmBackward0>)"
            ]
          },
          "metadata": {},
          "execution_count": 12
        }
      ]
    },
    {
      "cell_type": "markdown",
      "source": [
        "## Calculate Masked Attention"
      ],
      "metadata": {
        "id": "Ah0hB57-1n3u"
      }
    },
    {
      "cell_type": "code",
      "source": [
        "mask = torch.tril(torch.ones(3,3))\n",
        "mask = (mask == 0)\n",
        "mask"
      ],
      "metadata": {
        "colab": {
          "base_uri": "https://localhost:8080/"
        },
        "id": "Ou0T8FZ51T4m",
        "outputId": "6bc94447-615d-47af-c352-32896e94035d"
      },
      "execution_count": 13,
      "outputs": [
        {
          "output_type": "execute_result",
          "data": {
            "text/plain": [
              "tensor([[False,  True,  True],\n",
              "        [False, False,  True],\n",
              "        [False, False, False]])"
            ]
          },
          "metadata": {},
          "execution_count": 13
        }
      ]
    },
    {
      "cell_type": "code",
      "source": [
        "mask_attention = Attention(row_dim=0, col_dim=1, d_model=2)\n",
        "mask_attention(q_encoding, k_encoding, v_encoding, mask=mask)"
      ],
      "metadata": {
        "colab": {
          "base_uri": "https://localhost:8080/"
        },
        "id": "umGE4RTw13rJ",
        "outputId": "d206b9c0-c16a-4fe2-ea51-cfac90946095"
      },
      "execution_count": 14,
      "outputs": [
        {
          "output_type": "execute_result",
          "data": {
            "text/plain": [
              "tensor([[-0.3970, -0.2253],\n",
              "        [-0.3488,  0.1166],\n",
              "        [-0.7190, -0.8447]], grad_fn=<MmBackward0>)"
            ]
          },
          "metadata": {},
          "execution_count": 14
        }
      ]
    },
    {
      "cell_type": "markdown",
      "source": [
        "# Multi-head attention"
      ],
      "metadata": {
        "id": "RczjIbSH22Ez"
      }
    },
    {
      "cell_type": "code",
      "source": [
        "class MultiHeadAttention(nn.Module):\n",
        "    def __init__(self, row_dim=0, col_dim=1, d_model=2, num_heads=1):\n",
        "        super().__init__()\n",
        "        self.row_dim = row_dim\n",
        "        self.col_dim = col_dim\n",
        "\n",
        "        self.heads = nn.ModuleList([Attention(row_dim=0, col_dim=1, d_model=2) for _ in range(num_heads)])\n",
        "\n",
        "    def forward(self, q_encoding, k_encoding, v_encoding, mask=None):\n",
        "        return torch.cat([head(q_encoding, k_encoding, v_encoding, mask) for head in self.heads], dim=self.col_dim)"
      ],
      "metadata": {
        "id": "AdAXrQz429Aq"
      },
      "execution_count": 15,
      "outputs": []
    },
    {
      "cell_type": "markdown",
      "source": [
        "## Calculate attention for single head"
      ],
      "metadata": {
        "id": "3Hul4bWT5MYm"
      }
    },
    {
      "cell_type": "code",
      "source": [
        "torch.manual_seed(42)\n",
        "singleHeadAttention = MultiHeadAttention(row_dim=0, col_dim=1, d_model=2, num_heads=1)\n",
        "singleHeadAttention(q_encoding, k_encoding, v_encoding, mask=None)"
      ],
      "metadata": {
        "colab": {
          "base_uri": "https://localhost:8080/"
        },
        "id": "TvkepiBf4q-b",
        "outputId": "5cdfe056-cd49-4936-cb99-457e14f2444c"
      },
      "execution_count": 17,
      "outputs": [
        {
          "output_type": "execute_result",
          "data": {
            "text/plain": [
              "tensor([[1.0100, 1.0641],\n",
              "        [0.2040, 0.7057],\n",
              "        [3.4989, 2.2427]], grad_fn=<CatBackward0>)"
            ]
          },
          "metadata": {},
          "execution_count": 17
        }
      ]
    },
    {
      "cell_type": "markdown",
      "source": [
        "## Calculate attention for multiple heads"
      ],
      "metadata": {
        "id": "St-FmL5E51NF"
      }
    },
    {
      "cell_type": "code",
      "source": [
        "torch.manual_seed(42)\n",
        "multiHeadAttention = MultiHeadAttention(row_dim=0, col_dim=1, d_model=2, num_heads=2)\n",
        "multiHeadAttention(q_encoding, k_encoding, v_encoding, mask=None)"
      ],
      "metadata": {
        "colab": {
          "base_uri": "https://localhost:8080/"
        },
        "id": "Zdy8D7Yl5kI2",
        "outputId": "3e3b2bbc-5a5a-44d2-d776-aae1d3ed0e37"
      },
      "execution_count": 18,
      "outputs": [
        {
          "output_type": "execute_result",
          "data": {
            "text/plain": [
              "tensor([[ 1.0100,  1.0641, -0.7081, -0.8268],\n",
              "        [ 0.2040,  0.7057, -0.7417, -0.9193],\n",
              "        [ 3.4989,  2.2427, -0.7190, -0.8447]], grad_fn=<CatBackward0>)"
            ]
          },
          "metadata": {},
          "execution_count": 18
        }
      ]
    },
    {
      "cell_type": "markdown",
      "source": [
        "## Calculate masked attention for single head"
      ],
      "metadata": {
        "id": "3B-GWD166ZDm"
      }
    },
    {
      "cell_type": "code",
      "source": [
        "torch.manual_seed(42)\n",
        "mask = torch.tril(torch.ones(3,3))\n",
        "mask = (mask == 0)\n",
        "singleMaskedHeadAttention = MultiHeadAttention(row_dim=0, col_dim=1, d_model=2, num_heads=1)\n",
        "singleMaskedHeadAttention(q_encoding, k_encoding, v_encoding, mask=mask)"
      ],
      "metadata": {
        "colab": {
          "base_uri": "https://localhost:8080/"
        },
        "id": "sXsJN5bL5-ry",
        "outputId": "60f49691-9515-491b-bfec-34ba533b4fff"
      },
      "execution_count": 19,
      "outputs": [
        {
          "output_type": "execute_result",
          "data": {
            "text/plain": [
              "tensor([[ 0.6038,  0.7434],\n",
              "        [-0.0062,  0.6072],\n",
              "        [ 3.4989,  2.2427]], grad_fn=<CatBackward0>)"
            ]
          },
          "metadata": {},
          "execution_count": 19
        }
      ]
    },
    {
      "cell_type": "markdown",
      "source": [
        "## Calculate masked attention for multiple heads"
      ],
      "metadata": {
        "id": "6sKVv1_H6cT8"
      }
    },
    {
      "cell_type": "code",
      "source": [
        "torch.manual_seed(42)\n",
        "mask = torch.tril(torch.ones(3,3))\n",
        "mask = (mask == 0)\n",
        "multiMaskedHeadAttention = MultiHeadAttention(row_dim=0, col_dim=1, d_model=2, num_heads=2)\n",
        "multiMaskedHeadAttention(q_encoding, k_encoding, v_encoding, mask=mask)"
      ],
      "metadata": {
        "colab": {
          "base_uri": "https://localhost:8080/"
        },
        "id": "ac-SaC7s6Ooa",
        "outputId": "ad4501d2-1c83-41df-a32a-2569abce5494"
      },
      "execution_count": 21,
      "outputs": [
        {
          "output_type": "execute_result",
          "data": {
            "text/plain": [
              "tensor([[ 0.6038,  0.7434, -0.3970, -0.2253],\n",
              "        [-0.0062,  0.6072, -0.3488,  0.1166],\n",
              "        [ 3.4989,  2.2427, -0.7190, -0.8447]], grad_fn=<CatBackward0>)"
            ]
          },
          "metadata": {},
          "execution_count": 21
        }
      ]
    },
    {
      "cell_type": "code",
      "source": [],
      "metadata": {
        "id": "11YABmKK6ef2"
      },
      "execution_count": null,
      "outputs": []
    }
  ]
}